{
 "cells": [
  {
   "cell_type": "code",
   "execution_count": 5,
   "metadata": {},
   "outputs": [],
   "source": [
    "# A simple script to scrape a web site and get some info about todays MLB games\n",
    "\n",
    "#import the modules we are going to need\n",
    "import requests\n",
    "from bs4 import BeautifulSoup\n",
    "\n",
    "# We will start by scraping the daily matchups from http://www.baseballpress.com/lineups\n",
    "# First we set our website url\n",
    "url = \"http://www.baseballpress.com/lineups\"\n",
    "\n",
    "# Read the source code of our webpage and create a BeautifulSoup Object so we can \n",
    "# parse it and pull the data we want\n",
    "r = requests.get(url)\n",
    "data = r.text\n",
    "soup = BeautifulSoup(data)\n",
    "\n",
    "# Each individual game appears to be contained within a class called \"game clearfix\" \n",
    "# so lets load that info in.\n",
    "games = soup.find_all(\"div\", class_=\"game clearfix\")\n",
    "\n",
    "# Each game has two Teams that are playing and those team names are contained within a \n",
    "# class called \"team-name\".\n",
    "# We will store these matchups in a dictionary, using the \"matchup\" as our dictionary key.\n",
    "# Note that the first team in each game is the Visitor and the second is the home team\n",
    "\n",
    "# Initialize our dictionary\n",
    "matchups = {}\n",
    "\n",
    "# Loop through each game and pull out the team names.\n",
    "for element in games:\n",
    "    data = element.find_all(class_=\"team-name\")\n",
    "\n",
    "# We now have a BS4 Result set that contains 2 items.  All we want is the text of each result.\n",
    "# Remember the first result is the visiting team and the second is the home team.\n",
    "# Lets grab these and make a nice descriptive key for our \"matchups\" dictionary\n",
    "    matchups[(data[0].get_text()) + \" vs \" + (data[1].get_text())] = {}\n",
    "    \n",
    "    # Now lets add the names of the home and visiting teams to our dictionary\n",
    "    matchups[(data[0].get_text()) + \" vs \" + (data[1].get_text())][\"home\"]= data[1].get_text()\n",
    "    matchups[(data[0].get_text()) + \" vs \" + (data[1].get_text())][\"visitor\"]= data[0].get_text() \n",
    "#matchups\n",
    "\n",
    "\n",
    "# Now that we have our daily matchups lets create a dictionary of the individual teams\n",
    "# Each team has a link to it's daily lineup so lets store each teams unique url \n",
    "# so we can grab the lineups\n",
    "# This is all still on the same page so we can use our original BS4 Object\n",
    "\n",
    "# The individual team data appears to be in a class called \"team-data\".\n",
    "teamdata = soup.find_all(\"div\", class_=\"team-data\")\n",
    "\n",
    "# Once again lets loop through each team and get the \"Name\" and the link to it's lineup,\n",
    "# Storing them in a \"team\" dictionary.\n",
    "teams = {}\n",
    "\n",
    "for element in teamdata:\n",
    "    team_name = element.find(class_=\"team-name\")\n",
    "    teams[(team_name.get_text())] = {}\n",
    "    \n",
    "    # the url to the teams lineup is seen in the line \"<a href=\"/team-lineups/TEAM\">\"\n",
    "    # So lets grab that and set the url in our Teams dictionary\n",
    "    team_url = element.a[\"href\"]\n",
    "    teams[team_name.get_text()][\"url\"] = team_url\n",
    "#teams\n",
    "\n",
    "\n",
    "# Get the names of the players and make a players dictionary by going to the indiviual \n",
    "# teams websites and grabbing the names of their starting lineups.\n",
    "players={}\n",
    "\n",
    "# set the base url\n",
    "url = \"http://www.baseballpress.com\"\n",
    "\n",
    "# Loop through all the teams\n",
    "for element in teams:\n",
    "    # set the url for the team's lineup page using our base url plus \n",
    "    # the team's url that we saved in our \"team\" dict\n",
    "    team_url = url + (teams[element]['url'])\n",
    "    \n",
    "# Read the source code of our webpage and create a BeautifulSoup Object \n",
    "    r = requests.get(team_url)\n",
    "    data = r.text\n",
    "    soup = BeautifulSoup(data)\n",
    "\n",
    "    # The player data we want is in class \"team-lineup highlight\" - Todays game\n",
    "    playerdata = soup.find(class_=\"team-lineup highlight\")\n",
    "    \n",
    "    # The names are all in class \"player-link\" so we will loop through them and grab the names\n",
    "    playerlist = playerdata.find_all(class_=\"player-link\")\n",
    "    for element in playerlist:\n",
    "        \n",
    "        # add the player name as a key in our \"player dict\"\n",
    "        players[(element.get_text())] = {}\n"
   ]
  },
  {
   "cell_type": "code",
   "execution_count": 7,
   "metadata": {},
   "outputs": [
    {
     "data": {
      "text/plain": [
       "{}"
      ]
     },
     "execution_count": 7,
     "metadata": {},
     "output_type": "execute_result"
    }
   ],
   "source": [
    "matchups"
   ]
  },
  {
   "cell_type": "code",
   "execution_count": null,
   "metadata": {},
   "outputs": [],
   "source": []
  }
 ],
 "metadata": {
  "kernelspec": {
   "display_name": "Python 3",
   "language": "python",
   "name": "python3"
  },
  "language_info": {
   "codemirror_mode": {
    "name": "ipython",
    "version": 3
   },
   "file_extension": ".py",
   "mimetype": "text/x-python",
   "name": "python",
   "nbconvert_exporter": "python",
   "pygments_lexer": "ipython3",
   "version": "3.7.6"
  }
 },
 "nbformat": 4,
 "nbformat_minor": 4
}

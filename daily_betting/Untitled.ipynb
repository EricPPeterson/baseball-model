{
 "cells": [
  {
   "cell_type": "code",
   "execution_count": 1,
   "metadata": {},
   "outputs": [],
   "source": [
    "import pandas as pd\n",
    "import requests\n",
    "from bs4 import BeautifulSoup"
   ]
  },
  {
   "cell_type": "code",
   "execution_count": 6,
   "metadata": {},
   "outputs": [
    {
     "name": "stdout",
     "output_type": "stream",
     "text": [
      "             away_team        home_team\n",
      "0       Nathan Eovaldi       Jose Urena\n",
      "1         Alex Verdugo  Corey Dickerson\n",
      "2        Rafael Devers   Starling Marte\n",
      "3      Xander Bogaerts    Jesus Aguilar\n",
      "4        J.D. Martinez       Matt Joyce\n",
      "..                 ...              ...\n",
      "115         Will Smith     Kevin Pillar\n",
      "116     Cody Bellinger        Matt Kemp\n",
      "117       Chris Taylor     Josh Fuentes\n",
      "118  Enrique Hernandez  Garrett Hampson\n",
      "119         Edwin Rios     Tony Wolters\n",
      "\n",
      "[120 rows x 2 columns]\n"
     ]
    }
   ],
   "source": [
    "url = \"https://www.baseballpress.com/lineups/2020-09-17\"\n",
    "\n",
    "def get_names(item):\n",
    "    try:\n",
    "        player_name = item.get('data-razz').split(\"/\")[-2].replace(\"+\",\" \")\n",
    "    except IndexError: player_name = \"\"\n",
    "    return player_name\n",
    "\n",
    "r = requests.get(url)\n",
    "soup = BeautifulSoup(r.text,'lxml')\n",
    "first_lineup = [get_names(item) for item in soup.select(\".col--min:nth-of-type(1) > a.player-link, [class$='col--min']:nth-of-type(1) .player > a.player-link\")]\n",
    "second_lineup = [get_names(item) for item in soup.select(\".col--min:nth-of-type(2) > a.player-link, [class$='col--min']:nth-of-type(2) .player > a.player-link\")]\n",
    "\n",
    "df = pd.DataFrame({\"away_team\":first_lineup,\"home_team\":second_lineup})\n",
    "df.to_csv(\"baseballpress.csv\", encoding='utf-8', index=False)\n",
    "print(df)"
   ]
  },
  {
   "cell_type": "code",
   "execution_count": null,
   "metadata": {},
   "outputs": [],
   "source": []
  }
 ],
 "metadata": {
  "kernelspec": {
   "display_name": "Python 3",
   "language": "python",
   "name": "python3"
  },
  "language_info": {
   "codemirror_mode": {
    "name": "ipython",
    "version": 3
   },
   "file_extension": ".py",
   "mimetype": "text/x-python",
   "name": "python",
   "nbconvert_exporter": "python",
   "pygments_lexer": "ipython3",
   "version": "3.7.6"
  }
 },
 "nbformat": 4,
 "nbformat_minor": 4
}
